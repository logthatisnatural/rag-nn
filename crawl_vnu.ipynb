{
 "cells": [
  {
   "cell_type": "code",
   "execution_count": 2,
   "id": "316050aa",
   "metadata": {},
   "outputs": [],
   "source": [
    "import requests\n",
    "from bs4 import BeautifulSoup\n",
    "import pandas as pd\n",
    "import json"
   ]
  },
  {
   "cell_type": "markdown",
   "id": "126f8462",
   "metadata": {},
   "source": [
    "Giới thiệu chung"
   ]
  },
  {
   "cell_type": "code",
   "execution_count": 2,
   "id": "cfe5b627",
   "metadata": {},
   "outputs": [],
   "source": [
    "url = \"https://vnu.edu.vn/home/?C1963\"\n",
    "response = requests.get(url)"
   ]
  },
  {
   "cell_type": "code",
   "execution_count": 3,
   "id": "40c461d1",
   "metadata": {},
   "outputs": [
    {
     "name": "stdout",
     "output_type": "stream",
     "text": [
      "Giới thiệu chung về công tác đào tạo\n",
      "Đại học Quốc gia Hà Nội (ĐHQGHN) là trung tâm đào tạo, nghiên cứu khoa học , công nghệ đa ngành , đa lĩnh vực chất lượng cao, được Nhà nước ưu tiên đầu tư phát triển . Hiện tại, ĐHQGHN đang triển khai 190 chương trình đào tạo đại học và 198 chương trình đào tạo thạc sỹ và 118 chương trình đào tạo tiến sỹ thuộc lĩnh vực khoa học tự nhiên, công nghệ, khoa học xã hội nhân văn, kinh tế, giáo dục, ngoại ngữ… Tỷ lệ quy mô đào tạo sau đại học/tổng quy mô đào tạo chính quy đạt 33.88%. Quy mô đào tạo đại học chính quy được giữ ổn định. Hàng năm, ĐHQGHN đào tạo trên 5.000 cử nhân khoa học, trong đó 13.1% sinh viên tài năng, chất lượng cao, tiên tiến, đạt chuẩn quốc tế; 2.400 thạc sỹ và 200 tiến sỹ.\n",
      "Chất lượng đào tạo của ĐHQGHN giữ vị trí hàng đầu của Việt Nam. Sinh viên tốt nghiệp chương trình đào tạo tài năng, chất lượng cao, chuẩn quốc tế được các đại học danh tiếng như: Đại học Bách khoa Paris, Đại học Paris Sud, Đại học Illinois - Hoa Kỳ, Đại học Tokyo - Nhật Bản... công nhận. Sinh viên tốt nghiệp ở ĐHQGHN được trang bị đầy đủ kiến thức chuyên môn, kỹ năng phân tích đánh giá, kỹ năng nghề nghiệp, bổ trợ và trình độ ngoại ngữ quốc tế.\n",
      "Ngoài các ngành, chuyên ngành truyền thống, ĐHQGHN luôn tiên phong xây dựng, phát triển các ngành, chuyên ngành mới có tính liên ngành như Khoa học Môi trường, Toán - Tin, Quản lý tài nguyên thiên nhiên, Hóa dược, Vật liệu và linh kiện nanô, Biến đổi khí hậu, Việt Nam học, Nhân học… phục vụ nhu cầu phát triển kinh tế xã hội hiện đại.\n",
      "Hàng năm có trên 800 học sinh trung học phổ thông năng khiếu về khoa học tự nhiên và ngoại ngữ tốt nghiệp tiếp cận chuẩn quốc tế, tạo nguồn cho các chương trình đào tạo tài năng, chương trình tiên tiến, chương trình đạt chuẩn quốc tế. Học sinh Trung học phổ thông Chuyên đã giành được 55 huy chương vàng, 76 huy chương bạc và 66 huy chương đồng trong các kỳ thi Olympic quốc tế. Nhiều nhà khoa học hàng đầu thế giới đã trưởng thành từ ĐHQGHN như GS. Ngô Bảo Châu (giải thưởng Fields trong lĩnh vực toán học năm 2010), GS. Đàm Thanh Sơn (ĐH Washington)...\n",
      "ĐHQGHN tiên phong phối hợp với các trường đại học nước ngoài có uy tín cao để đào tạo thạc sỹ về chính sách công, quản lý khoa học công nghệ, quản lý xã hội thuộc Đề án 165 “Đào tạo bồi dưỡng cán bộ lãnh đạo, quản lý ở nước ngoài bằng nguồn ngân sách nhà nước” do Ban Tổ chức Trung ương chủ trì.ĐHQGHN là đơn vị tiên phong trong việc nghiên cứu xây dựng và triển khai áp dụng bộ tiêu chuẩn kiểm định chất lượng đào tạo theo các mức chuẩn quốc gia, chuẩn khu vực và chuẩn quốc tế; hoàn chỉnh hệ thống văn bản quy phạm nội bộ (quy chế, quy định, hướng dẫn) về đào tạo đại học và sau đại học.\n",
      "ĐHQGHN tích cực tổ chức các chương trình đào tạo, bồi dưỡng, tập huấn cho cán bộ của các bộ, ngành (như Bộ Ngoại giao, Bộ GD&ĐT, Bộ Tài nguyên Môi trường - TN&MT, Bộ Nông nghiệp và Phát triển nông thôn...), cấp tỉnh, huyện, các tổ chức nghiên cứu và tuyên truyền về chính sách công, công nghệ thông tin, kiểm định chất lượng, pháp luật, bảo vệ tài nguyên thiên nhiên và phát triển bền vững, phát triển tài nguyên miền núi; bồi dưỡng các môn lý luận chính trị cho giảng viên các trường đại học, cao đẳng; bồi dưỡng về phương pháp giảng dạy tiên tiến cho giáo viên các trường trung học phổ thông… góp phần quan trọng nâng cao chất lượng, năng lực cho cán bộ lãnh đạo, quản lý và cán bộ chuyên môn.\n",
      "Sinh viên tốt nghiệp ĐHQGHN hiện đang đảm nhiệm nhiều vị trí quan trọng trong các cơ quan quản lý nhà nước cũng như trong các tổ chức chính trị xã hội, các cơ quan quản lý các tỉnh và thành phố trực thuộc trung ương, có mặt và đóng góp nhiều thành công trong hoạt động nghiên cứu triển khai công tác tại nhiều viện nghiên cứu khoa học lớn của đất nước. Số lượng sinh viên tốt nghiệp làm việc trong các doanh nghiệp nhà nước và doanh nghiệp nước ngoài ngày càng tăng.\n",
      "Quá trình xây dựng và phát triển, ĐHQGHN đã từng bước khẳng định uy tín cao trong đào tạo nguồn nhân lực chất lượng cao, trình độ cao, bồi dưỡng nhân tài, từng bước tiếp cận chuẩn quốc tế, đáp ứng yêu cầu phát triển kinh tế - xã hội và hội nhập kinh tế quốc tế của đất nước, góp phần “có được nhiều nhân tài cho đất nước trong thế kỷ 21”.\n"
     ]
    }
   ],
   "source": [
    "if response.status_code == 200:\n",
    "    soup = BeautifulSoup(response.content, 'html.parser')\n",
    "    title = soup.find('div', class_='news-title')\n",
    "    title = ''.join(title.get_text(' ', strip=True))\n",
    "    paragraphs = soup.find_all('p', class_='MsoNormal')\n",
    "    content = '\\n'.join([p.get_text(' ', strip=True) for p in paragraphs])\n",
    "print(title)\n",
    "print(content)"
   ]
  },
  {
   "cell_type": "code",
   "execution_count": null,
   "id": "ed370dfb",
   "metadata": {},
   "outputs": [],
   "source": [
    "data = {\n",
    "    \"title\": title,\n",
    "    \"content\": content,\n",
    "    \"url\": response.url\n",
    "}\n",
    "\n",
    "with open('gioi_thieu_chung.json', 'w', encoding='utf-8') as f:\n",
    "    json.dump(data, f, ensure_ascii=False, indent=4)\n",
    "    \"\"\"\n",
    "    dump(): có thể làm việc với file JSON, tự động chuyển Python object (dict/list) -> chuỗi JSON hợp lệ\n",
    "    ensure_ascii: True - Tự động chuyển các ký tự không phải ASCII (như tiếng việt) thành chuỗi Unicode escape\n",
    "    indent: Thêm khoảng trắng/thụt lề để format JSON cho dễ đọc (default=None: tất cả nội dung xuất hiện trên cùng 1 dòng)\n",
    "    \"\"\""
   ]
  },
  {
   "cell_type": "markdown",
   "id": "40a7aabf",
   "metadata": {},
   "source": [
    "Kế hoạch học tập và giảng dạy"
   ]
  },
  {
   "cell_type": "code",
   "execution_count": 5,
   "id": "546c1d47",
   "metadata": {},
   "outputs": [],
   "source": [
    "url = \"https://vnu.edu.vn/home/?C2019\"\n",
    "response = requests.get(url)"
   ]
  },
  {
   "cell_type": "code",
   "execution_count": 6,
   "id": "83561d63",
   "metadata": {},
   "outputs": [
    {
     "name": "stderr",
     "output_type": "stream",
     "text": [
      "C:\\Users\\longb\\AppData\\Local\\Temp\\ipykernel_8824\\642026171.py:9: FutureWarning: Passing literal html to 'read_html' is deprecated and will be removed in a future version. To read from a literal string, wrap it in a 'StringIO' object.\n",
      "  df = pd.read_html(str(table), header=0)[0]\n"
     ]
    }
   ],
   "source": [
    "if response.status_code == 200:\n",
    "    soup = BeautifulSoup(response.content, 'html.parser')\n",
    "    # Lấy tiêu đề trang web\n",
    "    title = soup.find('div', class_='news-title')\n",
    "    title = ''.join(title.get_text(' ', strip=True))\n",
    "    table = soup.find('table', class_=\"MsoTableGrid\")\n",
    "\n",
    "    # Chuyển bảng HTML thành DataFrame\n",
    "    df = pd.read_html(str(table), header=0)[0]"
   ]
  },
  {
   "cell_type": "code",
   "execution_count": 8,
   "id": "1acc3e79",
   "metadata": {},
   "outputs": [
    {
     "name": "stdout",
     "output_type": "stream",
     "text": [
      "['TT', 'Nội dung công việc', 'Thời gian thực hiện']\n"
     ]
    }
   ],
   "source": [
    "print(df.columns.tolist())"
   ]
  },
  {
   "cell_type": "code",
   "execution_count": 9,
   "id": "c094edf8",
   "metadata": {},
   "outputs": [],
   "source": [
    "result = {\n",
    "    \"academic_year\": \"2024-2025\",\n",
    "    \"semesters\": []\n",
    "}\n",
    "\n",
    "current_semester = None\n",
    "\n",
    "for _, row in df.iterrows():\n",
    "    if pd.isna(row['TT']):\n",
    "        current_semester = {\n",
    "            \"semester\": row['Nội dung công việc'],\n",
    "            \"start_time\": row['Thời gian thực hiện'],\n",
    "            \"content\": []\n",
    "        }\n",
    "        result['semesters'].append(current_semester)\n",
    "        continue\n",
    "    else:\n",
    "        content_in_semester = {\n",
    "            \"id\": row['TT'],\n",
    "            \"job_content\": row['Nội dung công việc'],\n",
    "            \"start_time\": row['Thời gian thực hiện']\n",
    "        }\n",
    "        current_semester['content'].append(content_in_semester)\n",
    "        continue\n",
    "    "
   ]
  },
  {
   "cell_type": "code",
   "execution_count": 11,
   "id": "c92cfa34",
   "metadata": {},
   "outputs": [],
   "source": [
    "with open('ke_hoach_hoc_tap_giang_day.json', 'w', encoding='utf-8') as f:\n",
    "    json.dump(result, f, ensure_ascii=False, indent=4)"
   ]
  },
  {
   "cell_type": "markdown",
   "id": "a25993f6",
   "metadata": {},
   "source": [
    "Chương trình đào tạo thạc sĩ\n"
   ]
  },
  {
   "cell_type": "code",
   "execution_count": 12,
   "id": "eca7b806",
   "metadata": {},
   "outputs": [],
   "source": [
    "url = \"https://vnu.edu.vn/home/?C2455\"\n",
    "response = requests.get(url)"
   ]
  },
  {
   "cell_type": "code",
   "execution_count": 13,
   "id": "29b33138",
   "metadata": {},
   "outputs": [
    {
     "name": "stderr",
     "output_type": "stream",
     "text": [
      "C:\\Users\\longb\\AppData\\Local\\Temp\\ipykernel_8824\\3738068848.py:9: FutureWarning: Passing literal html to 'read_html' is deprecated and will be removed in a future version. To read from a literal string, wrap it in a 'StringIO' object.\n",
      "  df = pd.read_html(str(table), header=0)[0]\n"
     ]
    }
   ],
   "source": [
    "if response.status_code == 200:\n",
    "    soup = BeautifulSoup(response.content, 'html.parser')\n",
    "    # Lấy tiêu đề trang web\n",
    "    title = soup.find('div', class_='news-title')\n",
    "    title = ''.join(title.get_text(' ', strip=True))\n",
    "    table = soup.find('table', class_=\"MsoNormalTable\")\n",
    "\n",
    "    # Chuyển bảng HTML thành DataFrame\n",
    "    df = pd.read_html(str(table), header=0)[0]"
   ]
  },
  {
   "cell_type": "code",
   "execution_count": 15,
   "id": "368422f5",
   "metadata": {},
   "outputs": [
    {
     "name": "stdout",
     "output_type": "stream",
     "text": [
      "['STT', 'Tên chuyên ngành đào tạo', 'Nghiên cứu', 'Ứng dụng', 'CLC theo đặc thù đơn vị', 'Tổng']\n"
     ]
    }
   ],
   "source": [
    "print(df.columns.tolist())"
   ]
  },
  {
   "cell_type": "code",
   "execution_count": 16,
   "id": "ef6da176",
   "metadata": {},
   "outputs": [],
   "source": [
    "df = df.fillna(0)"
   ]
  },
  {
   "cell_type": "code",
   "execution_count": 21,
   "id": "73c85942",
   "metadata": {},
   "outputs": [],
   "source": [
    "result = []\n",
    "\n",
    "for _, row in df.iterrows():\n",
    "    if row['Nghiên cứu'] > 1:\n",
    "        university_index = {\n",
    "            \"id\": row['STT'],\n",
    "            \"training_major\": row['Tên chuyên ngành đào tạo'],\n",
    "            \"research\": row['Nghiên cứu'],\n",
    "            \"application\": row['Ứng dụng'],\n",
    "            \"clc_program\": row['CLC theo đặc thù đơn vị'],\n",
    "            \"total\": row['Tổng'],\n",
    "            \"content\": []\n",
    "        }\n",
    "        result.append(university_index)\n",
    "        continue\n",
    "    else:\n",
    "        majors = {\n",
    "            \"id\": row['STT'],\n",
    "            \"training_major\": row['Tên chuyên ngành đào tạo'],\n",
    "            \"research\": row['Nghiên cứu'],\n",
    "            \"application\": row['Ứng dụng'],\n",
    "            \"clc_program\": row['CLC theo đặc thù đơn vị'],\n",
    "            \"total\": row['Tổng'],\n",
    "        }\n",
    "        university_index['content'].append(majors)\n",
    "        continue"
   ]
  },
  {
   "cell_type": "code",
   "execution_count": 24,
   "id": "e5ef68db",
   "metadata": {},
   "outputs": [],
   "source": [
    "with open('chuong_trinh_dao_tao_thac_si.json', 'w', encoding='utf-8') as f:\n",
    "    json.dump(result, f, ensure_ascii=False, indent=4)"
   ]
  },
  {
   "cell_type": "markdown",
   "id": "51292905",
   "metadata": {},
   "source": [
    "Chương trình đào tạo tiến sĩ"
   ]
  },
  {
   "cell_type": "code",
   "execution_count": 25,
   "id": "9c54774f",
   "metadata": {},
   "outputs": [],
   "source": [
    "url = \"https://vnu.edu.vn/home/?C2456\"\n",
    "response = requests.get(url)"
   ]
  },
  {
   "cell_type": "code",
   "execution_count": 26,
   "id": "f35f85db",
   "metadata": {},
   "outputs": [
    {
     "name": "stdout",
     "output_type": "stream",
     "text": [
      "Danh mục các chương trình đào tạo tiến sĩ tại ĐHQGHN\n"
     ]
    },
    {
     "name": "stderr",
     "output_type": "stream",
     "text": [
      "C:\\Users\\longb\\AppData\\Local\\Temp\\ipykernel_8824\\3182726701.py:9: FutureWarning: Passing literal html to 'read_html' is deprecated and will be removed in a future version. To read from a literal string, wrap it in a 'StringIO' object.\n",
      "  df = pd.read_html(str(table), header=0)[0]\n"
     ]
    }
   ],
   "source": [
    "if response.status_code == 200:\n",
    "    soup = BeautifulSoup(response.content, 'html.parser')\n",
    "    # Lấy tiêu đề trang web\n",
    "    title = soup.find('div', class_='news-title')\n",
    "    title = ''.join(title.get_text(' ', strip=True))\n",
    "    table = soup.find('table', class_=\"MsoNormalTable\")\n",
    "    print(title)\n",
    "    # Chuyển bảng HTML thành DataFrame\n",
    "    df = pd.read_html(str(table), header=0)[0]"
   ]
  },
  {
   "cell_type": "code",
   "execution_count": 31,
   "id": "5fb979fa",
   "metadata": {},
   "outputs": [],
   "source": [
    "df = df.fillna(0)"
   ]
  },
  {
   "cell_type": "code",
   "execution_count": 32,
   "id": "7760e8d1",
   "metadata": {},
   "outputs": [
    {
     "data": {
      "text/html": [
       "<div>\n",
       "<style scoped>\n",
       "    .dataframe tbody tr th:only-of-type {\n",
       "        vertical-align: middle;\n",
       "    }\n",
       "\n",
       "    .dataframe tbody tr th {\n",
       "        vertical-align: top;\n",
       "    }\n",
       "\n",
       "    .dataframe thead th {\n",
       "        text-align: right;\n",
       "    }\n",
       "</style>\n",
       "<table border=\"1\" class=\"dataframe\">\n",
       "  <thead>\n",
       "    <tr style=\"text-align: right;\">\n",
       "      <th></th>\n",
       "      <th>STT</th>\n",
       "      <th>Mã chuyên ngành đào tạo</th>\n",
       "      <th>Tên chuyên ngành đào tạo</th>\n",
       "      <th>Chuẩn</th>\n",
       "      <th>CLC theo đặc thù đơn vị</th>\n",
       "      <th>Tổng</th>\n",
       "    </tr>\n",
       "  </thead>\n",
       "  <tbody>\n",
       "    <tr>\n",
       "      <th>0</th>\n",
       "      <td>1</td>\n",
       "      <td>Trường Đại học Khoa học Tự nhiên</td>\n",
       "      <td>Trường Đại học Khoa học Tự nhiên</td>\n",
       "      <td>47.0</td>\n",
       "      <td>0.0</td>\n",
       "      <td>47</td>\n",
       "    </tr>\n",
       "    <tr>\n",
       "      <th>1</th>\n",
       "      <td>1</td>\n",
       "      <td>0</td>\n",
       "      <td>Toán giải tích</td>\n",
       "      <td>1.0</td>\n",
       "      <td>0.0</td>\n",
       "      <td>1</td>\n",
       "    </tr>\n",
       "    <tr>\n",
       "      <th>2</th>\n",
       "      <td>2</td>\n",
       "      <td>0</td>\n",
       "      <td>Phương trình vi phân và tích phân</td>\n",
       "      <td>1.0</td>\n",
       "      <td>0.0</td>\n",
       "      <td>1</td>\n",
       "    </tr>\n",
       "    <tr>\n",
       "      <th>3</th>\n",
       "      <td>3</td>\n",
       "      <td>0</td>\n",
       "      <td>Đại số và lí thuyết số</td>\n",
       "      <td>1.0</td>\n",
       "      <td>0.0</td>\n",
       "      <td>1</td>\n",
       "    </tr>\n",
       "    <tr>\n",
       "      <th>4</th>\n",
       "      <td>4</td>\n",
       "      <td>0</td>\n",
       "      <td>Hình học - Tô pô</td>\n",
       "      <td>1.0</td>\n",
       "      <td>0.0</td>\n",
       "      <td>1</td>\n",
       "    </tr>\n",
       "    <tr>\n",
       "      <th>...</th>\n",
       "      <td>...</td>\n",
       "      <td>...</td>\n",
       "      <td>...</td>\n",
       "      <td>...</td>\n",
       "      <td>...</td>\n",
       "      <td>...</td>\n",
       "    </tr>\n",
       "    <tr>\n",
       "      <th>124</th>\n",
       "      <td>12</td>\n",
       "      <td>Viện Công nghệ Thông tin</td>\n",
       "      <td>Viện Công nghệ Thông tin</td>\n",
       "      <td>1.0</td>\n",
       "      <td>0.0</td>\n",
       "      <td>1</td>\n",
       "    </tr>\n",
       "    <tr>\n",
       "      <th>125</th>\n",
       "      <td>1</td>\n",
       "      <td>0</td>\n",
       "      <td>Quản lí hệ thống thông tin</td>\n",
       "      <td>1.0</td>\n",
       "      <td>0.0</td>\n",
       "      <td>1</td>\n",
       "    </tr>\n",
       "    <tr>\n",
       "      <th>126</th>\n",
       "      <td>13</td>\n",
       "      <td>Viện Trần Nhân Tông</td>\n",
       "      <td>Viện Trần Nhân Tông</td>\n",
       "      <td>1.0</td>\n",
       "      <td>0.0</td>\n",
       "      <td>1</td>\n",
       "    </tr>\n",
       "    <tr>\n",
       "      <th>127</th>\n",
       "      <td>1</td>\n",
       "      <td>0</td>\n",
       "      <td>Phật học</td>\n",
       "      <td>1.0</td>\n",
       "      <td>0.0</td>\n",
       "      <td>1</td>\n",
       "    </tr>\n",
       "    <tr>\n",
       "      <th>128</th>\n",
       "      <td>TỔNG</td>\n",
       "      <td>TỔNG</td>\n",
       "      <td>TỔNG</td>\n",
       "      <td>114.0</td>\n",
       "      <td>1.0</td>\n",
       "      <td>115</td>\n",
       "    </tr>\n",
       "  </tbody>\n",
       "</table>\n",
       "<p>129 rows × 6 columns</p>\n",
       "</div>"
      ],
      "text/plain": [
       "      STT           Mã chuyên ngành đào tạo  \\\n",
       "0       1  Trường Đại học Khoa học Tự nhiên   \n",
       "1       1                                 0   \n",
       "2       2                                 0   \n",
       "3       3                                 0   \n",
       "4       4                                 0   \n",
       "..    ...                               ...   \n",
       "124    12          Viện Công nghệ Thông tin   \n",
       "125     1                                 0   \n",
       "126    13               Viện Trần Nhân Tông   \n",
       "127     1                                 0   \n",
       "128  TỔNG                              TỔNG   \n",
       "\n",
       "              Tên chuyên ngành đào tạo  Chuẩn  CLC theo đặc thù đơn vị  Tổng  \n",
       "0     Trường Đại học Khoa học Tự nhiên   47.0                      0.0    47  \n",
       "1                       Toán giải tích    1.0                      0.0     1  \n",
       "2    Phương trình vi phân và tích phân    1.0                      0.0     1  \n",
       "3               Đại số và lí thuyết số    1.0                      0.0     1  \n",
       "4                     Hình học - Tô pô    1.0                      0.0     1  \n",
       "..                                 ...    ...                      ...   ...  \n",
       "124           Viện Công nghệ Thông tin    1.0                      0.0     1  \n",
       "125         Quản lí hệ thống thông tin    1.0                      0.0     1  \n",
       "126                Viện Trần Nhân Tông    1.0                      0.0     1  \n",
       "127                           Phật học    1.0                      0.0     1  \n",
       "128                               TỔNG  114.0                      1.0   115  \n",
       "\n",
       "[129 rows x 6 columns]"
      ]
     },
     "execution_count": 32,
     "metadata": {},
     "output_type": "execute_result"
    }
   ],
   "source": [
    "df"
   ]
  },
  {
   "cell_type": "code",
   "execution_count": 28,
   "id": "62cb377e",
   "metadata": {},
   "outputs": [
    {
     "name": "stdout",
     "output_type": "stream",
     "text": [
      "['STT', 'Mã chuyên ngành đào tạo', 'Tên chuyên ngành đào tạo', 'Chuẩn', 'CLC theo đặc thù đơn vị', 'Tổng']\n"
     ]
    }
   ],
   "source": [
    "print(df.columns.tolist())"
   ]
  },
  {
   "cell_type": "code",
   "execution_count": 36,
   "id": "abc7a193",
   "metadata": {},
   "outputs": [],
   "source": [
    "result = []\n",
    "\n",
    "for _, row in df.iterrows():\n",
    "    if row['Mã chuyên ngành đào tạo'] != 0:\n",
    "        university_index = {\n",
    "            \"id\": row['STT'],\n",
    "            \"training_major\": row['Tên chuyên ngành đào tạo'],\n",
    "            \"normal_program\": row['Chuẩn'],\n",
    "            \"clc_program\": row['CLC theo đặc thù đơn vị'],\n",
    "            \"total\": row['Tổng'],\n",
    "            \"content\": []\n",
    "        }\n",
    "        result.append(university_index)\n",
    "        continue\n",
    "    else:\n",
    "        majors = {\n",
    "            \"id\": row['STT'],\n",
    "            \"training_major\": row['Tên chuyên ngành đào tạo'],\n",
    "            \"normal_program\": row['Chuẩn'],\n",
    "            \"clc_program\": row['CLC theo đặc thù đơn vị'],\n",
    "            \"total\": row['Tổng'],\n",
    "        }\n",
    "        university_index['content'].append(majors)\n",
    "        continue"
   ]
  },
  {
   "cell_type": "code",
   "execution_count": 37,
   "id": "78a0eeb1",
   "metadata": {},
   "outputs": [],
   "source": [
    "with open('chuong_trinh_dao_tao_tien_si.json', 'w', encoding='utf-8') as f:\n",
    "    json.dump(result, f, ensure_ascii=False, indent=4)"
   ]
  },
  {
   "cell_type": "markdown",
   "id": "c2d47995",
   "metadata": {},
   "source": [
    "Đào tạo liên kết"
   ]
  },
  {
   "cell_type": "code",
   "execution_count": 42,
   "id": "6ffe4dde",
   "metadata": {},
   "outputs": [],
   "source": [
    "url = \"https://vnu.edu.vn/home/?C2452\"\n",
    "response = requests.get(url)"
   ]
  },
  {
   "cell_type": "code",
   "execution_count": 43,
   "id": "ee4c631f",
   "metadata": {},
   "outputs": [
    {
     "name": "stderr",
     "output_type": "stream",
     "text": [
      "C:\\Users\\longb\\AppData\\Local\\Temp\\ipykernel_8824\\642026171.py:9: FutureWarning: Passing literal html to 'read_html' is deprecated and will be removed in a future version. To read from a literal string, wrap it in a 'StringIO' object.\n",
      "  df = pd.read_html(str(table), header=0)[0]\n"
     ]
    }
   ],
   "source": [
    "if response.status_code == 200:\n",
    "    soup = BeautifulSoup(response.content, 'html.parser')\n",
    "    # Lấy tiêu đề trang web\n",
    "    title = soup.find('div', class_='news-title')\n",
    "    title = ''.join(title.get_text(' ', strip=True))\n",
    "    table = soup.find('table', class_=\"MsoTableGrid\")\n",
    "\n",
    "    # Chuyển bảng HTML thành DataFrame\n",
    "    df = pd.read_html(str(table), header=0)[0]"
   ]
  },
  {
   "cell_type": "code",
   "execution_count": 44,
   "id": "0635f021",
   "metadata": {},
   "outputs": [
    {
     "data": {
      "text/html": [
       "<div>\n",
       "<style scoped>\n",
       "    .dataframe tbody tr th:only-of-type {\n",
       "        vertical-align: middle;\n",
       "    }\n",
       "\n",
       "    .dataframe tbody tr th {\n",
       "        vertical-align: top;\n",
       "    }\n",
       "\n",
       "    .dataframe thead th {\n",
       "        text-align: right;\n",
       "    }\n",
       "</style>\n",
       "<table border=\"1\" class=\"dataframe\">\n",
       "  <thead>\n",
       "    <tr style=\"text-align: right;\">\n",
       "      <th></th>\n",
       "      <th>STT</th>\n",
       "      <th>Cơ sở liên kết đào tạo</th>\n",
       "      <th>Quốc gia</th>\n",
       "      <th>Trình độ đào tạo</th>\n",
       "      <th>Chuyên ngành đào tạo</th>\n",
       "      <th>Đơn vị cấp bằng</th>\n",
       "    </tr>\n",
       "  </thead>\n",
       "  <tbody>\n",
       "    <tr>\n",
       "      <th>0</th>\n",
       "      <td>1</td>\n",
       "      <td>Trường ĐH Troy</td>\n",
       "      <td>Hoa Kỳ</td>\n",
       "      <td>Cử nhân</td>\n",
       "      <td>Quản trị kinh doanh</td>\n",
       "      <td>Đối tác</td>\n",
       "    </tr>\n",
       "    <tr>\n",
       "      <th>1</th>\n",
       "      <td>2</td>\n",
       "      <td>Trường ĐH St. Francis</td>\n",
       "      <td>Hoa Kỳ</td>\n",
       "      <td>Cử nhân</td>\n",
       "      <td>Quản trị kinh doanh</td>\n",
       "      <td>Đối tác</td>\n",
       "    </tr>\n",
       "    <tr>\n",
       "      <th>2</th>\n",
       "      <td>3</td>\n",
       "      <td>Trường ĐH St. Francis</td>\n",
       "      <td>Hoa Kỳ</td>\n",
       "      <td>Thạc sĩ</td>\n",
       "      <td>Quản trị kinh doanh</td>\n",
       "      <td>Đối tác</td>\n",
       "    </tr>\n",
       "    <tr>\n",
       "      <th>3</th>\n",
       "      <td>4</td>\n",
       "      <td>Trường ĐH Southern New Hampshire</td>\n",
       "      <td>Hoa Kỳ</td>\n",
       "      <td>Cử nhân</td>\n",
       "      <td>Kinh tế - Tài chính</td>\n",
       "      <td>Đối tác</td>\n",
       "    </tr>\n",
       "    <tr>\n",
       "      <th>4</th>\n",
       "      <td>5</td>\n",
       "      <td>Trường ĐH Southern New Hampshire</td>\n",
       "      <td>Hoa Kỳ</td>\n",
       "      <td>Thạc sĩ</td>\n",
       "      <td>Lý luận và phương pháp dạy học tiếng Anh</td>\n",
       "      <td>Đối tác</td>\n",
       "    </tr>\n",
       "    <tr>\n",
       "      <th>5</th>\n",
       "      <td>6</td>\n",
       "      <td>Trường ĐH Leipzig</td>\n",
       "      <td>Đức</td>\n",
       "      <td>Thạc sĩ</td>\n",
       "      <td>Ngôn ngữ Đức</td>\n",
       "      <td>ĐHQGHN và đối tác</td>\n",
       "    </tr>\n",
       "    <tr>\n",
       "      <th>6</th>\n",
       "      <td>7</td>\n",
       "      <td>Trường ĐH Toulon</td>\n",
       "      <td>CH Pháp</td>\n",
       "      <td>Thạc sĩ</td>\n",
       "      <td>Vật liệu tiên tiến, thông minh và bền vững</td>\n",
       "      <td>Đối tác</td>\n",
       "    </tr>\n",
       "    <tr>\n",
       "      <th>7</th>\n",
       "      <td>8</td>\n",
       "      <td>Trường ĐH Quốc gia Giao thông</td>\n",
       "      <td>Đài Loan</td>\n",
       "      <td>Thạc sĩ</td>\n",
       "      <td>Công nghệ bán dẫn</td>\n",
       "      <td>Đối tác</td>\n",
       "    </tr>\n",
       "    <tr>\n",
       "      <th>8</th>\n",
       "      <td>9</td>\n",
       "      <td>Trường ĐH Paris Saclay</td>\n",
       "      <td>CH Pháp</td>\n",
       "      <td>Thạc sĩ</td>\n",
       "      <td>Điện tử, Năng lượng điện, Tự động hóa</td>\n",
       "      <td>Đối tác</td>\n",
       "    </tr>\n",
       "    <tr>\n",
       "      <th>9</th>\n",
       "      <td>10</td>\n",
       "      <td>Trường ĐH Montesquieu Bordeaux IV, Jean Moulin...</td>\n",
       "      <td>CH Pháp</td>\n",
       "      <td>Thạc sĩ</td>\n",
       "      <td>Luật hợp tác kinh tế và kinh doanh quốc tế</td>\n",
       "      <td>Đối tác</td>\n",
       "    </tr>\n",
       "    <tr>\n",
       "      <th>10</th>\n",
       "      <td>11</td>\n",
       "      <td>Trường ĐH HELP</td>\n",
       "      <td>Malaysia</td>\n",
       "      <td>Cử nhân</td>\n",
       "      <td>Kinh doanh chuyên ngành Kế toán</td>\n",
       "      <td>ĐHQGHN và đối tác</td>\n",
       "    </tr>\n",
       "    <tr>\n",
       "      <th>11</th>\n",
       "      <td>12</td>\n",
       "      <td>Trường ĐH Keuka</td>\n",
       "      <td>Hoa Kỳ</td>\n",
       "      <td>Cử nhân</td>\n",
       "      <td>Quản lý</td>\n",
       "      <td>ĐHQGHN và đối tác</td>\n",
       "    </tr>\n",
       "    <tr>\n",
       "      <th>12</th>\n",
       "      <td>13</td>\n",
       "      <td>Trường ĐH Keuka</td>\n",
       "      <td>Hoa Kỳ</td>\n",
       "      <td>Cử nhân</td>\n",
       "      <td>Quản lý</td>\n",
       "      <td>Đối tác</td>\n",
       "    </tr>\n",
       "    <tr>\n",
       "      <th>13</th>\n",
       "      <td>14</td>\n",
       "      <td>Trường ĐH East London</td>\n",
       "      <td>VQ Anh</td>\n",
       "      <td>Cử nhân</td>\n",
       "      <td>Kế toán và tài chính</td>\n",
       "      <td>Đối tác</td>\n",
       "    </tr>\n",
       "    <tr>\n",
       "      <th>14</th>\n",
       "      <td>15</td>\n",
       "      <td>Trường ĐH kỹ thuật năng lượng Mát-xcơ-va</td>\n",
       "      <td>CHLB Nga</td>\n",
       "      <td>Cử nhân</td>\n",
       "      <td>Tin học và Kỹ thuật máy tính</td>\n",
       "      <td>ĐHQGHN</td>\n",
       "    </tr>\n",
       "    <tr>\n",
       "      <th>15</th>\n",
       "      <td>16</td>\n",
       "      <td>Trường ĐH Troy</td>\n",
       "      <td>Hoa Kỳ</td>\n",
       "      <td>Cử nhân</td>\n",
       "      <td>Quản trị Khách sạn, Thể thao và Du lịch</td>\n",
       "      <td>Đối tác</td>\n",
       "    </tr>\n",
       "    <tr>\n",
       "      <th>16</th>\n",
       "      <td>17</td>\n",
       "      <td>Trường ĐH Khoa học và Công nghệ Lunghwa</td>\n",
       "      <td>Đài Loan</td>\n",
       "      <td>Thạc sĩ</td>\n",
       "      <td>Quản trị Kinh doanh</td>\n",
       "      <td>Đối tác</td>\n",
       "    </tr>\n",
       "    <tr>\n",
       "      <th>17</th>\n",
       "      <td>18</td>\n",
       "      <td>Trường ĐH Nantes</td>\n",
       "      <td>CH Pháp</td>\n",
       "      <td>Thạc sĩ</td>\n",
       "      <td>Tài chính, Ngân hàng, Bảo hiểm quốc tế</td>\n",
       "      <td>Đối tác</td>\n",
       "    </tr>\n",
       "    <tr>\n",
       "      <th>18</th>\n",
       "      <td>19</td>\n",
       "      <td>Trường ĐH Nantes</td>\n",
       "      <td>CH Pháp</td>\n",
       "      <td>Thạc sĩ</td>\n",
       "      <td>Nghiên cứu và tác nghiệp Marketing</td>\n",
       "      <td>Đối tác</td>\n",
       "    </tr>\n",
       "    <tr>\n",
       "      <th>19</th>\n",
       "      <td>20</td>\n",
       "      <td>Trường ĐH La Rochelle</td>\n",
       "      <td>CH Pháp</td>\n",
       "      <td>Thạc sĩ</td>\n",
       "      <td>Hệ thống thông minh và đa phương tiện</td>\n",
       "      <td>ĐHQGHN và đối tác</td>\n",
       "    </tr>\n",
       "    <tr>\n",
       "      <th>20</th>\n",
       "      <td>21</td>\n",
       "      <td>Trường Quản lý Normandie</td>\n",
       "      <td>CH Pháp</td>\n",
       "      <td>Thạc sĩ</td>\n",
       "      <td>Ngân hàng, Tài chính và Công nghệ tài chính</td>\n",
       "      <td>Đối tác</td>\n",
       "    </tr>\n",
       "  </tbody>\n",
       "</table>\n",
       "</div>"
      ],
      "text/plain": [
       "    STT                             Cơ sở liên kết đào tạo  Quốc gia  \\\n",
       "0     1                                     Trường ĐH Troy    Hoa Kỳ   \n",
       "1     2                              Trường ĐH St. Francis    Hoa Kỳ   \n",
       "2     3                              Trường ĐH St. Francis    Hoa Kỳ   \n",
       "3     4                   Trường ĐH Southern New Hampshire    Hoa Kỳ   \n",
       "4     5                   Trường ĐH Southern New Hampshire    Hoa Kỳ   \n",
       "5     6                                  Trường ĐH Leipzig       Đức   \n",
       "6     7                                   Trường ĐH Toulon   CH Pháp   \n",
       "7     8                      Trường ĐH Quốc gia Giao thông  Đài Loan   \n",
       "8     9                             Trường ĐH Paris Saclay   CH Pháp   \n",
       "9    10  Trường ĐH Montesquieu Bordeaux IV, Jean Moulin...   CH Pháp   \n",
       "10   11                                     Trường ĐH HELP  Malaysia   \n",
       "11   12                                    Trường ĐH Keuka    Hoa Kỳ   \n",
       "12   13                                    Trường ĐH Keuka    Hoa Kỳ   \n",
       "13   14                              Trường ĐH East London    VQ Anh   \n",
       "14   15           Trường ĐH kỹ thuật năng lượng Mát-xcơ-va  CHLB Nga   \n",
       "15   16                                     Trường ĐH Troy    Hoa Kỳ   \n",
       "16   17            Trường ĐH Khoa học và Công nghệ Lunghwa  Đài Loan   \n",
       "17   18                                   Trường ĐH Nantes   CH Pháp   \n",
       "18   19                                   Trường ĐH Nantes   CH Pháp   \n",
       "19   20                              Trường ĐH La Rochelle   CH Pháp   \n",
       "20   21                           Trường Quản lý Normandie   CH Pháp   \n",
       "\n",
       "   Trình độ đào tạo                         Chuyên ngành đào tạo  \\\n",
       "0           Cử nhân                          Quản trị kinh doanh   \n",
       "1           Cử nhân                          Quản trị kinh doanh   \n",
       "2           Thạc sĩ                          Quản trị kinh doanh   \n",
       "3           Cử nhân                          Kinh tế - Tài chính   \n",
       "4           Thạc sĩ     Lý luận và phương pháp dạy học tiếng Anh   \n",
       "5           Thạc sĩ                                 Ngôn ngữ Đức   \n",
       "6           Thạc sĩ   Vật liệu tiên tiến, thông minh và bền vững   \n",
       "7           Thạc sĩ                            Công nghệ bán dẫn   \n",
       "8           Thạc sĩ        Điện tử, Năng lượng điện, Tự động hóa   \n",
       "9           Thạc sĩ   Luật hợp tác kinh tế và kinh doanh quốc tế   \n",
       "10          Cử nhân              Kinh doanh chuyên ngành Kế toán   \n",
       "11          Cử nhân                                      Quản lý   \n",
       "12          Cử nhân                                      Quản lý   \n",
       "13          Cử nhân                         Kế toán và tài chính   \n",
       "14          Cử nhân                 Tin học và Kỹ thuật máy tính   \n",
       "15          Cử nhân      Quản trị Khách sạn, Thể thao và Du lịch   \n",
       "16          Thạc sĩ                          Quản trị Kinh doanh   \n",
       "17          Thạc sĩ       Tài chính, Ngân hàng, Bảo hiểm quốc tế   \n",
       "18          Thạc sĩ           Nghiên cứu và tác nghiệp Marketing   \n",
       "19          Thạc sĩ        Hệ thống thông minh và đa phương tiện   \n",
       "20          Thạc sĩ  Ngân hàng, Tài chính và Công nghệ tài chính   \n",
       "\n",
       "      Đơn vị cấp bằng  \n",
       "0             Đối tác  \n",
       "1             Đối tác  \n",
       "2             Đối tác  \n",
       "3             Đối tác  \n",
       "4             Đối tác  \n",
       "5   ĐHQGHN và đối tác  \n",
       "6             Đối tác  \n",
       "7             Đối tác  \n",
       "8             Đối tác  \n",
       "9             Đối tác  \n",
       "10  ĐHQGHN và đối tác  \n",
       "11  ĐHQGHN và đối tác  \n",
       "12            Đối tác  \n",
       "13            Đối tác  \n",
       "14             ĐHQGHN  \n",
       "15            Đối tác  \n",
       "16            Đối tác  \n",
       "17            Đối tác  \n",
       "18            Đối tác  \n",
       "19  ĐHQGHN và đối tác  \n",
       "20            Đối tác  "
      ]
     },
     "execution_count": 44,
     "metadata": {},
     "output_type": "execute_result"
    }
   ],
   "source": [
    "df"
   ]
  },
  {
   "cell_type": "code",
   "execution_count": 45,
   "id": "cc0cfa02",
   "metadata": {},
   "outputs": [],
   "source": [
    "# Chuyển đổi thành JSON\n",
    "result = []\n",
    "for _, row in df.iterrows():\n",
    "    item = {\n",
    "        \"id\": row['STT'],\n",
    "        \"training_association\": row['Cơ sở liên kết đào tạo'],\n",
    "        \"country\": row['Quốc gia'],\n",
    "        \"training_level\": row['Trình độ đào tạo'],\n",
    "        \"training_major\": row['Chuyên ngành đào tạo'],\n",
    "        \"degree_granting_unit\": row['Đơn vị cấp bằng']\n",
    "    }\n",
    "    result.append(item)"
   ]
  },
  {
   "cell_type": "code",
   "execution_count": 46,
   "id": "1513522d",
   "metadata": {},
   "outputs": [],
   "source": [
    "with open('chuong_trinh_dao_tao_lien_ket.json', 'w', encoding='utf-8') as f:\n",
    "    json.dump(result, f, ensure_ascii=False, indent=4)"
   ]
  }
 ],
 "metadata": {
  "kernelspec": {
   "display_name": "Python 3",
   "language": "python",
   "name": "python3"
  },
  "language_info": {
   "codemirror_mode": {
    "name": "ipython",
    "version": 3
   },
   "file_extension": ".py",
   "mimetype": "text/x-python",
   "name": "python",
   "nbconvert_exporter": "python",
   "pygments_lexer": "ipython3",
   "version": "3.11.11"
  }
 },
 "nbformat": 4,
 "nbformat_minor": 5
}
